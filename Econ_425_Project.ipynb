{
  "nbformat": 4,
  "nbformat_minor": 0,
  "metadata": {
    "colab": {
      "name": "Econ 425 Project",
      "provenance": []
    },
    "kernelspec": {
      "name": "python3",
      "display_name": "Python 3"
    }
  },
  "cells": [
    {
      "cell_type": "markdown",
      "metadata": {
        "id": "M5OJ9NMnwg6d"
      },
      "source": [
        "# **Banknote Authentication Project**"
      ]
    },
    {
      "cell_type": "code",
      "metadata": {
        "id": "n1i47CGjYfZ7"
      },
      "source": [
        "import pandas as pd\r\n",
        "import numpy as np\r\n",
        "import matplotlib.pyplot as plt\r\n",
        "\r\n",
        "from sklearn.linear_model import LogisticRegression\r\n",
        "from sklearn.model_selection import train_test_split\r\n",
        "from sklearn.ensemble import RandomForestClassifier\r\n",
        "from sklearn import metrics\r\n",
        "\r\n",
        "\r\n"
      ],
      "execution_count": null,
      "outputs": []
    },
    {
      "cell_type": "markdown",
      "metadata": {
        "id": "rgKhExIwwY6b"
      },
      "source": [
        "## **Importing Data**"
      ]
    },
    {
      "cell_type": "code",
      "metadata": {
        "colab": {
          "base_uri": "https://localhost:8080/",
          "height": 415
        },
        "id": "hVeUCl6kjYOM",
        "outputId": "e189388c-d0c8-40ac-b597-a45327fdbf13"
      },
      "source": [
        "df = pd.read_csv(\"https://archive.ics.uci.edu/ml/machine-learning-databases/00267/data_banknote_authentication.txt\", header = None)\r\n",
        "\r\n",
        "# Target Variable: class 0 is “genuine/authentic” and class 1 is “forgery/fake”\r\n",
        "df = df.rename(columns={0: \"Variance\", 1: \"Skewness\", 2: \"Kurtosis\", 3: \"Entropy\", 4: \"Target\"})\r\n",
        "\r\n",
        "X = df[[\"Variance\", \"Skewness\", \"Kurtosis\", \"Entropy\"]]\r\n",
        "y = df[[\"Target\"]]\r\n",
        "X = X.to_numpy()\r\n",
        "y = y.to_numpy()\r\n",
        "\r\n",
        "df"
      ],
      "execution_count": null,
      "outputs": [
        {
          "output_type": "execute_result",
          "data": {
            "text/html": [
              "<div>\n",
              "<style scoped>\n",
              "    .dataframe tbody tr th:only-of-type {\n",
              "        vertical-align: middle;\n",
              "    }\n",
              "\n",
              "    .dataframe tbody tr th {\n",
              "        vertical-align: top;\n",
              "    }\n",
              "\n",
              "    .dataframe thead th {\n",
              "        text-align: right;\n",
              "    }\n",
              "</style>\n",
              "<table border=\"1\" class=\"dataframe\">\n",
              "  <thead>\n",
              "    <tr style=\"text-align: right;\">\n",
              "      <th></th>\n",
              "      <th>Variance</th>\n",
              "      <th>Skewness</th>\n",
              "      <th>Kurtosis</th>\n",
              "      <th>Entropy</th>\n",
              "      <th>Target</th>\n",
              "    </tr>\n",
              "  </thead>\n",
              "  <tbody>\n",
              "    <tr>\n",
              "      <th>0</th>\n",
              "      <td>3.62160</td>\n",
              "      <td>8.66610</td>\n",
              "      <td>-2.8073</td>\n",
              "      <td>-0.44699</td>\n",
              "      <td>0</td>\n",
              "    </tr>\n",
              "    <tr>\n",
              "      <th>1</th>\n",
              "      <td>4.54590</td>\n",
              "      <td>8.16740</td>\n",
              "      <td>-2.4586</td>\n",
              "      <td>-1.46210</td>\n",
              "      <td>0</td>\n",
              "    </tr>\n",
              "    <tr>\n",
              "      <th>2</th>\n",
              "      <td>3.86600</td>\n",
              "      <td>-2.63830</td>\n",
              "      <td>1.9242</td>\n",
              "      <td>0.10645</td>\n",
              "      <td>0</td>\n",
              "    </tr>\n",
              "    <tr>\n",
              "      <th>3</th>\n",
              "      <td>3.45660</td>\n",
              "      <td>9.52280</td>\n",
              "      <td>-4.0112</td>\n",
              "      <td>-3.59440</td>\n",
              "      <td>0</td>\n",
              "    </tr>\n",
              "    <tr>\n",
              "      <th>4</th>\n",
              "      <td>0.32924</td>\n",
              "      <td>-4.45520</td>\n",
              "      <td>4.5718</td>\n",
              "      <td>-0.98880</td>\n",
              "      <td>0</td>\n",
              "    </tr>\n",
              "    <tr>\n",
              "      <th>...</th>\n",
              "      <td>...</td>\n",
              "      <td>...</td>\n",
              "      <td>...</td>\n",
              "      <td>...</td>\n",
              "      <td>...</td>\n",
              "    </tr>\n",
              "    <tr>\n",
              "      <th>1367</th>\n",
              "      <td>0.40614</td>\n",
              "      <td>1.34920</td>\n",
              "      <td>-1.4501</td>\n",
              "      <td>-0.55949</td>\n",
              "      <td>1</td>\n",
              "    </tr>\n",
              "    <tr>\n",
              "      <th>1368</th>\n",
              "      <td>-1.38870</td>\n",
              "      <td>-4.87730</td>\n",
              "      <td>6.4774</td>\n",
              "      <td>0.34179</td>\n",
              "      <td>1</td>\n",
              "    </tr>\n",
              "    <tr>\n",
              "      <th>1369</th>\n",
              "      <td>-3.75030</td>\n",
              "      <td>-13.45860</td>\n",
              "      <td>17.5932</td>\n",
              "      <td>-2.77710</td>\n",
              "      <td>1</td>\n",
              "    </tr>\n",
              "    <tr>\n",
              "      <th>1370</th>\n",
              "      <td>-3.56370</td>\n",
              "      <td>-8.38270</td>\n",
              "      <td>12.3930</td>\n",
              "      <td>-1.28230</td>\n",
              "      <td>1</td>\n",
              "    </tr>\n",
              "    <tr>\n",
              "      <th>1371</th>\n",
              "      <td>-2.54190</td>\n",
              "      <td>-0.65804</td>\n",
              "      <td>2.6842</td>\n",
              "      <td>1.19520</td>\n",
              "      <td>1</td>\n",
              "    </tr>\n",
              "  </tbody>\n",
              "</table>\n",
              "<p>1372 rows × 5 columns</p>\n",
              "</div>"
            ],
            "text/plain": [
              "      Variance  Skewness  Kurtosis  Entropy  Target\n",
              "0      3.62160   8.66610   -2.8073 -0.44699       0\n",
              "1      4.54590   8.16740   -2.4586 -1.46210       0\n",
              "2      3.86600  -2.63830    1.9242  0.10645       0\n",
              "3      3.45660   9.52280   -4.0112 -3.59440       0\n",
              "4      0.32924  -4.45520    4.5718 -0.98880       0\n",
              "...        ...       ...       ...      ...     ...\n",
              "1367   0.40614   1.34920   -1.4501 -0.55949       1\n",
              "1368  -1.38870  -4.87730    6.4774  0.34179       1\n",
              "1369  -3.75030 -13.45860   17.5932 -2.77710       1\n",
              "1370  -3.56370  -8.38270   12.3930 -1.28230       1\n",
              "1371  -2.54190  -0.65804    2.6842  1.19520       1\n",
              "\n",
              "[1372 rows x 5 columns]"
            ]
          },
          "metadata": {
            "tags": []
          },
          "execution_count": 3
        }
      ]
    },
    {
      "cell_type": "markdown",
      "metadata": {
        "id": "9GnxBRJrwAXc"
      },
      "source": [
        "\r\n",
        "\r\n",
        "---\r\n",
        "\r\n",
        "\r\n",
        "\r\n",
        "## **Logistic Regression**"
      ]
    },
    {
      "cell_type": "code",
      "metadata": {
        "colab": {
          "base_uri": "https://localhost:8080/"
        },
        "id": "zWS2LT9hofYy",
        "outputId": "1427424c-f153-40ed-c117-922f1703a8bd"
      },
      "source": [
        "#add data exploration\r\n",
        "\r\n",
        "X_train, X_test, y_train, y_test = train_test_split(X, y, test_size=0.3, random_state=0)\r\n",
        "\r\n",
        "clf = LogisticRegression(random_state=0).fit(X_train, y_train.ravel())\r\n",
        "clf.predict(X_test[:2, :])\r\n",
        "clf.predict_proba(X_test[:2, :])\r\n",
        "print(\"Score:\", clf.score(X_test, y_test))\r\n",
        "\r\n",
        "confusion_matrix(y_test, clf.predict(X_test))\r\n",
        "#add validation "
      ],
      "execution_count": null,
      "outputs": [
        {
          "output_type": "stream",
          "text": [
            "Score: 0.9878640776699029\n"
          ],
          "name": "stdout"
        },
        {
          "output_type": "execute_result",
          "data": {
            "text/plain": [
              "array([[227,   5],\n",
              "       [  0, 180]])"
            ]
          },
          "metadata": {
            "tags": []
          },
          "execution_count": 32
        }
      ]
    },
    {
      "cell_type": "markdown",
      "metadata": {
        "id": "_VPyGKBMu4mu"
      },
      "source": [
        "- True Negatives: 227 (correctly identified as real - successful)\r\n",
        "- False Negatives: 0 (falsely identified as real - counterfeit money accepted)\r\n",
        "- False Positives: 5 (falsely identified as fake - genuine money turned down)\r\n",
        "- True Postivies: 180 (correctly identified as fake - successful)"
      ]
    },
    {
      "cell_type": "code",
      "metadata": {
        "colab": {
          "base_uri": "https://localhost:8080/",
          "height": 483
        },
        "id": "OrYgMc0MYCZ7",
        "outputId": "322c3acf-134a-413a-e4a8-d63ddb8df52c"
      },
      "source": [
        "cm = confusion_matrix(y_test, clf.predict(X_test))\r\n",
        "\r\n",
        "fig, ax = plt.subplots(figsize=(8, 8))\r\n",
        "ax.imshow(cm)\r\n",
        "ax.grid(False)\r\n",
        "ax.xaxis.set(ticks=(0, 1), ticklabels=('Predicted 0s', 'Predicted 1s'))\r\n",
        "ax.yaxis.set(ticks=(0, 1), ticklabels=('Actual 0s', 'Actual 1s'))\r\n",
        "ax.set_ylim(1.5, -0.5)\r\n",
        "for i in range(2):\r\n",
        "    for j in range(2):\r\n",
        "        ax.text(j, i, cm[i, j], ha='center', va='center', color='red')\r\n",
        "plt.show()"
      ],
      "execution_count": null,
      "outputs": [
        {
          "output_type": "display_data",
          "data": {
            "image/png": "[encoded data removed]",
            "text/plain": [
              "<Figure size 576x576 with 1 Axes>"
            ]
          },
          "metadata": {
            "tags": [],
            "needs_background": "light"
          }
        }
      ]
    },
    {
      "cell_type": "markdown",
      "metadata": {
        "id": "rl8xfWnMFOhB"
      },
      "source": [
        "# Attempt at Random Forest"
      ]
    },
    {
      "cell_type": "code",
      "metadata": {
        "id": "LANR_0sbtcYX",
        "colab": {
          "base_uri": "https://localhost:8080/"
        },
        "outputId": "dffa8bac-5d7c-4087-e5b1-0d59caceab4e"
      },
      "source": [
        "X_train, X_test, y_train, y_test = train_test_split(X, y, test_size=0.3)\r\n",
        "\r\n",
        "rfclf=RandomForestClassifier(n_estimators=100)\r\n",
        "rfclf.fit(X_train,y_train.ravel())\r\n",
        "\r\n",
        "rf_y_pred=rfclf.predict(X_test)\r\n",
        "\r\n",
        "print(\"Accuracy:\",metrics.accuracy_score(y_test.ravel(), rf_y_pred.ravel()))"
      ],
      "execution_count": null,
      "outputs": [
        {
          "output_type": "stream",
          "text": [
            "Accuracy: 0.9951456310679612\n"
          ],
          "name": "stdout"
        }
      ]
    },
    {
      "cell_type": "code",
      "metadata": {
        "id": "rFgWkzMyEvHa"
      },
      "source": [
        "c = [\"Variance\", \"Skewness\", \"Kurtosis\", \"Entropy\"]\r\n",
        "feature_imp = pd.Series(rfclf.feature_importances_,index=c).sort_values(ascending=False)"
      ],
      "execution_count": null,
      "outputs": []
    },
    {
      "cell_type": "code",
      "metadata": {
        "colab": {
          "base_uri": "https://localhost:8080/",
          "height": 313
        },
        "id": "MCly0FhIEgGe",
        "outputId": "379432a8-899a-4fdc-ed89-5fc57ec76214"
      },
      "source": [
        "%matplotlib inline\r\n",
        "# Creating a bar plot\r\n",
        "sns.barplot(x=feature_imp, y=feature_imp.index)\r\n",
        "# Add labels to your graph\r\n",
        "plt.xlabel('Feature Importance Score')\r\n",
        "plt.ylabel('Features')\r\n",
        "plt.title(\"Visualizing Important Features\")\r\n",
        "plt.legend()\r\n",
        "plt.show()"
      ],
      "execution_count": null,
      "outputs": [
        {
          "output_type": "stream",
          "text": [
            "No handles with labels found to put in legend.\n"
          ],
          "name": "stderr"
        },
        {
          "output_type": "display_data",
          "data": {
            "image/png": "[encoded data removed]",
            "text/plain": [
              "<Figure size 432x288 with 1 Axes>"
            ]
          },
          "metadata": {
            "tags": [],
            "needs_background": "light"
          }
        }
      ]
    }
  ]
}